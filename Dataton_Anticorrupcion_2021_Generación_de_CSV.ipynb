{
  "nbformat": 4,
  "nbformat_minor": 0,
  "metadata": {
    "colab": {
      "name": "Dataton Anticorrupcion 2021 - Generación de CSV.ipynb",
      "provenance": [],
      "collapsed_sections": [],
      "mount_file_id": "1o6cLYV8i6ZPORnLZEfqTJXUvMZvjK-Jf",
      "authorship_tag": "ABX9TyN2XX+NIGu8Cvur04V4yNS9",
      "include_colab_link": true
    },
    "kernelspec": {
      "name": "python3",
      "display_name": "Python 3"
    },
    "language_info": {
      "name": "python"
    }
  },
  "cells": [
    {
      "cell_type": "markdown",
      "metadata": {
        "id": "view-in-github",
        "colab_type": "text"
      },
      "source": [
        "<a href=\"https://colab.research.google.com/github/rikrdinii1/PDN-Data21/blob/main/Dataton_Anticorrupcion_2021_Generaci%C3%B3n_de_CSV.ipynb\" target=\"_parent\"><img src=\"https://colab.research.google.com/assets/colab-badge.svg\" alt=\"Open In Colab\"/></a>"
      ]
    },
    {
      "cell_type": "code",
      "metadata": {
        "id": "kZYxKhg3W1ZY"
      },
      "source": [
        "import json\n",
        "import pandas as pd\n",
        "import zipfile\n",
        "\n"
      ],
      "execution_count": 3,
      "outputs": []
    },
    {
      "cell_type": "code",
      "metadata": {
        "id": "9GdMC0yfiXYW"
      },
      "source": [
        "with open('/content/drive/MyDrive/Dataton2021/Sistema3Servidores.json') as file:\n",
        "  sis3_servidores = json.load(file)\n",
        "\n",
        "with open('/content/drive/MyDrive/Dataton2021/SistemaS2.json') as file:\n",
        "  sis_s2 = json.load(file)\n"
      ],
      "execution_count": 143,
      "outputs": []
    },
    {
      "cell_type": "code",
      "metadata": {
        "colab": {
          "base_uri": "https://localhost:8080/",
          "height": 479
        },
        "id": "nYPylF2G32Cw",
        "outputId": "1bf40181-1d1a-4f41-e33c-11c632894a11"
      },
      "source": [
        "sis3_servidores = pd.json_normalize(sis3_servidores)\n",
        "sis3_servidores.head()"
      ],
      "execution_count": 144,
      "outputs": [
        {
          "output_type": "execute_result",
          "data": {
            "text/html": [
              "<div>\n",
              "<style scoped>\n",
              "    .dataframe tbody tr th:only-of-type {\n",
              "        vertical-align: middle;\n",
              "    }\n",
              "\n",
              "    .dataframe tbody tr th {\n",
              "        vertical-align: top;\n",
              "    }\n",
              "\n",
              "    .dataframe thead th {\n",
              "        text-align: right;\n",
              "    }\n",
              "</style>\n",
              "<table border=\"1\" class=\"dataframe\">\n",
              "  <thead>\n",
              "    <tr style=\"text-align: right;\">\n",
              "      <th></th>\n",
              "      <th>id</th>\n",
              "      <th>fechaCaptura</th>\n",
              "      <th>expediente</th>\n",
              "      <th>autoridadSancionadora</th>\n",
              "      <th>tipoSancion</th>\n",
              "      <th>causaMotivoHechos</th>\n",
              "      <th>observaciones</th>\n",
              "      <th>institucionDependencia.nombre</th>\n",
              "      <th>servidorPublicoSancionado.rfc.rfc</th>\n",
              "      <th>servidorPublicoSancionado.rfc.homoClave</th>\n",
              "      <th>servidorPublicoSancionado.curp</th>\n",
              "      <th>servidorPublicoSancionado.nombres</th>\n",
              "      <th>servidorPublicoSancionado.primerApellido</th>\n",
              "      <th>servidorPublicoSancionado.segundoApellido</th>\n",
              "      <th>servidorPublicoSancionado.genero.clave</th>\n",
              "      <th>servidorPublicoSancionado.genero.valor</th>\n",
              "      <th>servidorPublicoSancionado.puesto</th>\n",
              "      <th>tipoFalta.clave</th>\n",
              "      <th>tipoFalta.valor</th>\n",
              "      <th>tipoFalta.descripcion</th>\n",
              "      <th>resolucion.fechaResolucion</th>\n",
              "      <th>multa.moneda.clave</th>\n",
              "      <th>multa.moneda.valor</th>\n",
              "      <th>multa.monto</th>\n",
              "      <th>inhabilitacion.plazo</th>\n",
              "      <th>inhabilitacion.fechaInicial</th>\n",
              "      <th>inhabilitacion.fechaFinal</th>\n",
              "      <th>servidorPublicoSancionado.rfc</th>\n",
              "    </tr>\n",
              "  </thead>\n",
              "  <tbody>\n",
              "    <tr>\n",
              "      <th>0</th>\n",
              "      <td>a94cacc9-53ba-40d1-bc04-08b765010ac0</td>\n",
              "      <td>2010-01-01</td>\n",
              "      <td>SANC/bed70faf</td>\n",
              "      <td>Contraloría Interna</td>\n",
              "      <td>[{'clave': 'SE', 'valor': 'SANCIÓN ECONÓMICA',...</td>\n",
              "      <td>DESVÍO DE RECURSOS PÚBLICOS</td>\n",
              "      <td>Al contrario del pensamiento popular, el texto...</td>\n",
              "      <td>Comisión Federal de Electricidad</td>\n",
              "      <td>PUDD930927</td>\n",
              "      <td>E33</td>\n",
              "      <td>PUDD930927MVZG N02</td>\n",
              "      <td>Daniela</td>\n",
              "      <td>Puga</td>\n",
              "      <td>de Anda</td>\n",
              "      <td>M</td>\n",
              "      <td>FEMENINO</td>\n",
              "      <td>Jefe de departamento</td>\n",
              "      <td>ASEX</td>\n",
              "      <td>COMETER O TOLERAR CONDUCTAS DE ACOSO SEXUAL</td>\n",
              "      <td>COMETER O TOLERAR CONDUCTAS DE ACOSO SEXUAL</td>\n",
              "      <td>2010-01-01</td>\n",
              "      <td>MXN</td>\n",
              "      <td>Peso Mexicano</td>\n",
              "      <td>13185.0</td>\n",
              "      <td>NaN</td>\n",
              "      <td>NaN</td>\n",
              "      <td>NaN</td>\n",
              "      <td>NaN</td>\n",
              "    </tr>\n",
              "    <tr>\n",
              "      <th>1</th>\n",
              "      <td>6902edeb-1a0a-4ccf-af66-6b9308e0e173</td>\n",
              "      <td>2010-03-01</td>\n",
              "      <td>EXP/80ca6e1b</td>\n",
              "      <td>Contraloría Interna</td>\n",
              "      <td>[{'clave': 'IRSC', 'valor': 'INDEMNIZACIÓN RES...</td>\n",
              "      <td>ABUSO DE FUNCIONES</td>\n",
              "      <td>Lorem Ipsum es simplemente el texto de relleno...</td>\n",
              "      <td>Comisión Federal de Electricidad</td>\n",
              "      <td>VICJ950414</td>\n",
              "      <td>E62</td>\n",
              "      <td>VICJ950414MVZLRS02</td>\n",
              "      <td>Jose Daniel</td>\n",
              "      <td>Villarreal</td>\n",
              "      <td>Carrion</td>\n",
              "      <td>M</td>\n",
              "      <td>FEMENINO</td>\n",
              "      <td>Jefe de departamento</td>\n",
              "      <td>AC</td>\n",
              "      <td>ACTO DE CORRUPCIÓN</td>\n",
              "      <td>RECIBIR SOBORNO POR UN TRÁMITE</td>\n",
              "      <td>2010-01-01</td>\n",
              "      <td>MXN</td>\n",
              "      <td>Peso Mexicano</td>\n",
              "      <td>9074.0</td>\n",
              "      <td>NaN</td>\n",
              "      <td>NaN</td>\n",
              "      <td>NaN</td>\n",
              "      <td>NaN</td>\n",
              "    </tr>\n",
              "    <tr>\n",
              "      <th>2</th>\n",
              "      <td>e5f8626a-fa7f-41aa-bbe7-4685473ca62f</td>\n",
              "      <td>2010-04-01</td>\n",
              "      <td>SANC/23af791f</td>\n",
              "      <td>Contraloría Interna</td>\n",
              "      <td>[{'clave': 'I', 'valor': 'INHABILITADO', 'desc...</td>\n",
              "      <td>TRÁFICO DE INFLUENCIAS</td>\n",
              "      <td>Al contrario del pensamiento popular, el texto...</td>\n",
              "      <td>Comisión Federal de Electricidad</td>\n",
              "      <td>GAER730906</td>\n",
              "      <td>B58</td>\n",
              "      <td>GAER730906MVZSHC05</td>\n",
              "      <td>Ricardo</td>\n",
              "      <td>Gastélum</td>\n",
              "      <td>Echevarría</td>\n",
              "      <td>M</td>\n",
              "      <td>FEMENINO</td>\n",
              "      <td>Jefe de departamento</td>\n",
              "      <td>ENCB</td>\n",
              "      <td>ENCUBRIMIENTO</td>\n",
              "      <td>ENCUBRIMIENTO</td>\n",
              "      <td>2010-01-01</td>\n",
              "      <td>NaN</td>\n",
              "      <td>NaN</td>\n",
              "      <td>NaN</td>\n",
              "      <td>6 años</td>\n",
              "      <td>2010-01-01</td>\n",
              "      <td>2016-00-01</td>\n",
              "      <td>NaN</td>\n",
              "    </tr>\n",
              "    <tr>\n",
              "      <th>3</th>\n",
              "      <td>24700b4b-9fa1-4d46-8a84-93a53a66fe82</td>\n",
              "      <td>2010-04-31</td>\n",
              "      <td>GCPD/b0b7b091</td>\n",
              "      <td>Contraloría Interna</td>\n",
              "      <td>[{'clave': 'M', 'valor': 'MULTADO', 'descripci...</td>\n",
              "      <td>COHECHO, ACEPTO BENEFICIO NO COMPRENDIDO EN SU...</td>\n",
              "      <td>Al contrario del pensamiento popular, el texto...</td>\n",
              "      <td>Comisión Federal de Electricidad</td>\n",
              "      <td>GAER730906</td>\n",
              "      <td>B58</td>\n",
              "      <td>GAER730906MVZSHC05</td>\n",
              "      <td>Ricardo</td>\n",
              "      <td>Gastélum</td>\n",
              "      <td>Echevarría</td>\n",
              "      <td>M</td>\n",
              "      <td>FEMENINO</td>\n",
              "      <td>Jefe de departamento</td>\n",
              "      <td>OTRO</td>\n",
              "      <td>OTRO</td>\n",
              "      <td>OTRO</td>\n",
              "      <td>2010-01-01</td>\n",
              "      <td>MXN</td>\n",
              "      <td>Peso Mexicano</td>\n",
              "      <td>21956.0</td>\n",
              "      <td>NaN</td>\n",
              "      <td>NaN</td>\n",
              "      <td>NaN</td>\n",
              "      <td>NaN</td>\n",
              "    </tr>\n",
              "    <tr>\n",
              "      <th>4</th>\n",
              "      <td>a89fa644-deea-49a0-883c-314cd166ceff</td>\n",
              "      <td>2010-01-01</td>\n",
              "      <td>GCPD/01a89518</td>\n",
              "      <td>Tribunal</td>\n",
              "      <td>[{'clave': 'O', 'valor': 'OTRO', 'descripcion'...</td>\n",
              "      <td>CONTRATACIÓN INDEBIDA</td>\n",
              "      <td>Al contrario del pensamiento popular, el texto...</td>\n",
              "      <td>Comisión Federal de Electricidad</td>\n",
              "      <td>RAQR910021</td>\n",
              "      <td>D72</td>\n",
              "      <td>RAQR910021MAGMRM06</td>\n",
              "      <td>Ramón</td>\n",
              "      <td>Ramos</td>\n",
              "      <td>Quiroz</td>\n",
              "      <td>M</td>\n",
              "      <td>FEMENINO</td>\n",
              "      <td>Jefe de departamento</td>\n",
              "      <td>IDSP</td>\n",
              "      <td>INCUMPLIMIENTO EN DECLARACION DE SITUACION PAT...</td>\n",
              "      <td>OCULTAMIENTODE PROPIEDADES</td>\n",
              "      <td>2010-01-01</td>\n",
              "      <td>NaN</td>\n",
              "      <td>NaN</td>\n",
              "      <td>NaN</td>\n",
              "      <td>NaN</td>\n",
              "      <td>NaN</td>\n",
              "      <td>NaN</td>\n",
              "      <td>NaN</td>\n",
              "    </tr>\n",
              "  </tbody>\n",
              "</table>\n",
              "</div>"
            ],
            "text/plain": [
              "                                     id  ... servidorPublicoSancionado.rfc\n",
              "0  a94cacc9-53ba-40d1-bc04-08b765010ac0  ...                           NaN\n",
              "1  6902edeb-1a0a-4ccf-af66-6b9308e0e173  ...                           NaN\n",
              "2  e5f8626a-fa7f-41aa-bbe7-4685473ca62f  ...                           NaN\n",
              "3  24700b4b-9fa1-4d46-8a84-93a53a66fe82  ...                           NaN\n",
              "4  a89fa644-deea-49a0-883c-314cd166ceff  ...                           NaN\n",
              "\n",
              "[5 rows x 28 columns]"
            ]
          },
          "metadata": {},
          "execution_count": 144
        }
      ]
    },
    {
      "cell_type": "code",
      "metadata": {
        "colab": {
          "base_uri": "https://localhost:8080/",
          "height": 324
        },
        "id": "6ZWkiCf7lFHW",
        "outputId": "9ba9a009-0d75-4e4d-d026-ead1c6a5fc92"
      },
      "source": [
        "with zipfile.ZipFile('/content/drive/MyDrive/Dataton2021/declaraciones.json.zip','r') as z:\n",
        "  for filename in z.namelist():\n",
        "    with z.open(filename) as f:\n",
        "      data = f.read()\n",
        "      d= json.loads(data)"
      ],
      "execution_count": 145,
      "outputs": [
        {
          "output_type": "error",
          "ename": "ValueError",
          "evalue": "ignored",
          "traceback": [
            "\u001b[0;31m---------------------------------------------------------------------------\u001b[0m",
            "\u001b[0;31mValueError\u001b[0m                                Traceback (most recent call last)",
            "\u001b[0;32m<ipython-input-145-15c783fe73d5>\u001b[0m in \u001b[0;36m<module>\u001b[0;34m()\u001b[0m\n\u001b[0;32m----> 1\u001b[0;31m \u001b[0msis_s2\u001b[0m \u001b[0;34m=\u001b[0m \u001b[0mpd\u001b[0m\u001b[0;34m.\u001b[0m\u001b[0mread_json\u001b[0m\u001b[0;34m(\u001b[0m\u001b[0msis_s2\u001b[0m\u001b[0;34m)\u001b[0m\u001b[0;34m\u001b[0m\u001b[0;34m\u001b[0m\u001b[0m\n\u001b[0m\u001b[1;32m      2\u001b[0m \u001b[0msis_s2\u001b[0m\u001b[0;34m.\u001b[0m\u001b[0mhead\u001b[0m\u001b[0;34m(\u001b[0m\u001b[0;34m)\u001b[0m\u001b[0;34m\u001b[0m\u001b[0;34m\u001b[0m\u001b[0m\n",
            "\u001b[0;32m/usr/local/lib/python3.7/dist-packages/pandas/util/_decorators.py\u001b[0m in \u001b[0;36mwrapper\u001b[0;34m(*args, **kwargs)\u001b[0m\n\u001b[1;32m    197\u001b[0m                 \u001b[0;32melse\u001b[0m\u001b[0;34m:\u001b[0m\u001b[0;34m\u001b[0m\u001b[0;34m\u001b[0m\u001b[0m\n\u001b[1;32m    198\u001b[0m                     \u001b[0mkwargs\u001b[0m\u001b[0;34m[\u001b[0m\u001b[0mnew_arg_name\u001b[0m\u001b[0;34m]\u001b[0m \u001b[0;34m=\u001b[0m \u001b[0mnew_arg_value\u001b[0m\u001b[0;34m\u001b[0m\u001b[0;34m\u001b[0m\u001b[0m\n\u001b[0;32m--> 199\u001b[0;31m             \u001b[0;32mreturn\u001b[0m \u001b[0mfunc\u001b[0m\u001b[0;34m(\u001b[0m\u001b[0;34m*\u001b[0m\u001b[0margs\u001b[0m\u001b[0;34m,\u001b[0m \u001b[0;34m**\u001b[0m\u001b[0mkwargs\u001b[0m\u001b[0;34m)\u001b[0m\u001b[0;34m\u001b[0m\u001b[0;34m\u001b[0m\u001b[0m\n\u001b[0m\u001b[1;32m    200\u001b[0m \u001b[0;34m\u001b[0m\u001b[0m\n\u001b[1;32m    201\u001b[0m         \u001b[0;32mreturn\u001b[0m \u001b[0mcast\u001b[0m\u001b[0;34m(\u001b[0m\u001b[0mF\u001b[0m\u001b[0;34m,\u001b[0m \u001b[0mwrapper\u001b[0m\u001b[0;34m)\u001b[0m\u001b[0;34m\u001b[0m\u001b[0;34m\u001b[0m\u001b[0m\n",
            "\u001b[0;32m/usr/local/lib/python3.7/dist-packages/pandas/util/_decorators.py\u001b[0m in \u001b[0;36mwrapper\u001b[0;34m(*args, **kwargs)\u001b[0m\n\u001b[1;32m    294\u001b[0m                 )\n\u001b[1;32m    295\u001b[0m                 \u001b[0mwarnings\u001b[0m\u001b[0;34m.\u001b[0m\u001b[0mwarn\u001b[0m\u001b[0;34m(\u001b[0m\u001b[0mmsg\u001b[0m\u001b[0;34m,\u001b[0m \u001b[0mFutureWarning\u001b[0m\u001b[0;34m,\u001b[0m \u001b[0mstacklevel\u001b[0m\u001b[0;34m=\u001b[0m\u001b[0mstacklevel\u001b[0m\u001b[0;34m)\u001b[0m\u001b[0;34m\u001b[0m\u001b[0;34m\u001b[0m\u001b[0m\n\u001b[0;32m--> 296\u001b[0;31m             \u001b[0;32mreturn\u001b[0m \u001b[0mfunc\u001b[0m\u001b[0;34m(\u001b[0m\u001b[0;34m*\u001b[0m\u001b[0margs\u001b[0m\u001b[0;34m,\u001b[0m \u001b[0;34m**\u001b[0m\u001b[0mkwargs\u001b[0m\u001b[0;34m)\u001b[0m\u001b[0;34m\u001b[0m\u001b[0;34m\u001b[0m\u001b[0m\n\u001b[0m\u001b[1;32m    297\u001b[0m \u001b[0;34m\u001b[0m\u001b[0m\n\u001b[1;32m    298\u001b[0m         \u001b[0;32mreturn\u001b[0m \u001b[0mwrapper\u001b[0m\u001b[0;34m\u001b[0m\u001b[0;34m\u001b[0m\u001b[0m\n",
            "\u001b[0;32m/usr/local/lib/python3.7/dist-packages/pandas/io/json/_json.py\u001b[0m in \u001b[0;36mread_json\u001b[0;34m(path_or_buf, orient, typ, dtype, convert_axes, convert_dates, keep_default_dates, numpy, precise_float, date_unit, encoding, lines, chunksize, compression, nrows)\u001b[0m\n\u001b[1;32m    592\u001b[0m     \u001b[0mcompression\u001b[0m \u001b[0;34m=\u001b[0m \u001b[0minfer_compression\u001b[0m\u001b[0;34m(\u001b[0m\u001b[0mpath_or_buf\u001b[0m\u001b[0;34m,\u001b[0m \u001b[0mcompression\u001b[0m\u001b[0;34m)\u001b[0m\u001b[0;34m\u001b[0m\u001b[0;34m\u001b[0m\u001b[0m\n\u001b[1;32m    593\u001b[0m     filepath_or_buffer, _, compression, should_close = get_filepath_or_buffer(\n\u001b[0;32m--> 594\u001b[0;31m         \u001b[0mpath_or_buf\u001b[0m\u001b[0;34m,\u001b[0m \u001b[0mencoding\u001b[0m\u001b[0;34m=\u001b[0m\u001b[0mencoding\u001b[0m\u001b[0;34m,\u001b[0m \u001b[0mcompression\u001b[0m\u001b[0;34m=\u001b[0m\u001b[0mcompression\u001b[0m\u001b[0;34m\u001b[0m\u001b[0;34m\u001b[0m\u001b[0m\n\u001b[0m\u001b[1;32m    595\u001b[0m     )\n\u001b[1;32m    596\u001b[0m \u001b[0;34m\u001b[0m\u001b[0m\n",
            "\u001b[0;32m/usr/local/lib/python3.7/dist-packages/pandas/io/common.py\u001b[0m in \u001b[0;36mget_filepath_or_buffer\u001b[0;34m(filepath_or_buffer, encoding, compression, mode, storage_options)\u001b[0m\n\u001b[1;32m    241\u001b[0m     \u001b[0;32mif\u001b[0m \u001b[0;32mnot\u001b[0m \u001b[0mis_file_like\u001b[0m\u001b[0;34m(\u001b[0m\u001b[0mfilepath_or_buffer\u001b[0m\u001b[0;34m)\u001b[0m\u001b[0;34m:\u001b[0m\u001b[0;34m\u001b[0m\u001b[0;34m\u001b[0m\u001b[0m\n\u001b[1;32m    242\u001b[0m         \u001b[0mmsg\u001b[0m \u001b[0;34m=\u001b[0m \u001b[0;34mf\"Invalid file path or buffer object type: {type(filepath_or_buffer)}\"\u001b[0m\u001b[0;34m\u001b[0m\u001b[0;34m\u001b[0m\u001b[0m\n\u001b[0;32m--> 243\u001b[0;31m         \u001b[0;32mraise\u001b[0m \u001b[0mValueError\u001b[0m\u001b[0;34m(\u001b[0m\u001b[0mmsg\u001b[0m\u001b[0;34m)\u001b[0m\u001b[0;34m\u001b[0m\u001b[0;34m\u001b[0m\u001b[0m\n\u001b[0m\u001b[1;32m    244\u001b[0m \u001b[0;34m\u001b[0m\u001b[0m\n\u001b[1;32m    245\u001b[0m     \u001b[0;32mreturn\u001b[0m \u001b[0mfilepath_or_buffer\u001b[0m\u001b[0;34m,\u001b[0m \u001b[0;32mNone\u001b[0m\u001b[0;34m,\u001b[0m \u001b[0mcompression\u001b[0m\u001b[0;34m,\u001b[0m \u001b[0;32mFalse\u001b[0m\u001b[0;34m\u001b[0m\u001b[0;34m\u001b[0m\u001b[0m\n",
            "\u001b[0;31mValueError\u001b[0m: Invalid file path or buffer object type: <class 'list'>"
          ]
        }
      ]
    },
    {
      "cell_type": "code",
      "metadata": {
        "colab": {
          "base_uri": "https://localhost:8080/",
          "height": 164
        },
        "id": "huy5VXr94CuH",
        "outputId": "5476caa3-8dee-4ed4-afde-6ea3469ed3a7"
      },
      "source": [
        ""
      ],
      "execution_count": 146,
      "outputs": [
        {
          "output_type": "error",
          "ename": "TypeError",
          "evalue": "ignored",
          "traceback": [
            "\u001b[0;31m---------------------------------------------------------------------------\u001b[0m",
            "\u001b[0;31mTypeError\u001b[0m                                 Traceback (most recent call last)",
            "\u001b[0;32m<ipython-input-146-a23c9230512b>\u001b[0m in \u001b[0;36m<module>\u001b[0;34m()\u001b[0m\n\u001b[0;32m----> 1\u001b[0;31m \u001b[0msis_s2\u001b[0m\u001b[0;34m[\u001b[0m\u001b[0;34m'ramo'\u001b[0m\u001b[0;34m]\u001b[0m\u001b[0;34m[\u001b[0m\u001b[0;36m0\u001b[0m\u001b[0;34m]\u001b[0m\u001b[0;34m\u001b[0m\u001b[0;34m\u001b[0m\u001b[0m\n\u001b[0m",
            "\u001b[0;31mTypeError\u001b[0m: list indices must be integers or slices, not str"
          ]
        }
      ]
    },
    {
      "cell_type": "code",
      "metadata": {
        "id": "EBuVJy-f9TEC"
      },
      "source": [
        ""
      ],
      "execution_count": 147,
      "outputs": []
    },
    {
      "cell_type": "code",
      "metadata": {
        "id": "PF9oB0zQ-ybT"
      },
      "source": [
        ""
      ],
      "execution_count": 462,
      "outputs": []
    },
    {
      "cell_type": "code",
      "metadata": {
        "id": "V3xGwZPe_JRE"
      },
      "source": [
        ""
      ],
      "execution_count": 462,
      "outputs": []
    },
    {
      "cell_type": "code",
      "metadata": {
        "id": "LwrICsBD_jTW"
      },
      "source": [
        ""
      ],
      "execution_count": 462,
      "outputs": []
    },
    {
      "cell_type": "code",
      "metadata": {
        "colab": {
          "base_uri": "https://localhost:8080/"
        },
        "id": "zTUS-NUiBnJw",
        "outputId": "59a6b411-80d8-401a-f7af-dc9bb000ec29"
      },
      "source": [
        "# obtencion ingresos anuales netos\n",
        "# ya quedó\n",
        "ingresos_anuales_netos = d[0]['declaracion']['situacionPatrimonial']['ingresos']['totalIngresosAnualesNetos']['valor']"
      ],
      "execution_count": 155,
      "outputs": [
        {
          "output_type": "execute_result",
          "data": {
            "text/plain": [
              "506688"
            ]
          },
          "metadata": {},
          "execution_count": 155
        }
      ]
    },
    {
      "cell_type": "code",
      "metadata": {
        "id": "fraBz6EDDLj8"
      },
      "source": [
        "# Obtención estudios\n",
        "carrera = d[0]['declaracion']['situacionPatrimonial']['datosCurricularesDeclarante']['escolaridad'][0]['carreraAreaConocimiento']\n",
        "status = d[0]['declaracion']['situacionPatrimonial']['datosCurricularesDeclarante']['escolaridad'][0]['status']\n",
        "\n",
        "nombre_institucion = d[0]['declaracion']['situacionPatrimonial']['datosCurricularesDeclarante']['escolaridad'][0]['institucionEducativa']['nombre']\n",
        "ubicacion_institucion = d[0]['declaracion']['situacionPatrimonial']['datosCurricularesDeclarante']['escolaridad'][0]['institucionEducativa']['ubicacion']\n",
        "\n",
        "# Bienes inmuebles\n",
        "adquisición_bien_inmueble = d[0]['declaracion']['situacionPatrimonial']['bienesInmuebles']['bienInmueble'][0]['formaAdquisicion']['valor']\n",
        "forma_pago_bien_inmueble = d[0]['declaracion']['situacionPatrimonial']['bienesInmuebles']['bienInmueble'][0]['formaPago']\n",
        "valor_bien_inmueble = d[0]['declaracion']['situacionPatrimonial']['bienesInmuebles']['bienInmueble'][0]['valorAdquisicion']\n",
        "id_bien_inmueble = d[0]['declaracion']['situacionPatrimonial']['bienesInmuebles']['bienInmueble'][0]['datoIdentificacion']\n",
        "\n",
        "# Vehiculos\n",
        "operacion = d[7]['declaracion']['situacionPatrimonial']['vehiculos']['vehiculo'][0]['tipoOperacion']\n",
        "tipo_vehiculo = d[7]['declaracion']['situacionPatrimonial']['vehiculos']['vehiculo'][0]['tipoVehiculo']\n",
        "titular = d[7]['declaracion']['situacionPatrimonial']['vehiculos']['vehiculo'][0]['titularBien']\n",
        "marca = d[7]['declaracion']['situacionPatrimonial']['vehiculos']['vehiculo'][0]['marca']\n",
        "modelo = d[7]['declaracion']['situacionPatrimonial']['vehiculos']['vehiculo'][0]['modelo']\n",
        "anio = d[7]['declaracion']['situacionPatrimonial']['vehiculos']['vehiculo'][0]['anio']\n",
        "serie_registro = d[7]['declaracion']['situacionPatrimonial']['vehiculos']['vehiculo'][0]['numeroSerieRegistro']\n",
        "valor = d[7]['declaracion']['situacionPatrimonial']['vehiculos']['vehiculo'][0]['valorAdquisicion']\n",
        "\n",
        "# Adeudos\n",
        "d[0]['declaracion']['situacionPatrimonial']['adeudos']['adeudo'][0].keys()\n",
        "['tipoOperacion', 'titular', 'tipoAdeudo', 'numeroCuentaContrato', 'fechaAdquisicion', 'montoOriginal', 'otorganteCredito', 'localizacionAdeudo', 'saldoInsolutoDiciembreAnterior', 'porcentajeIncrementoDecremento']]\n"
      ],
      "execution_count": 207,
      "outputs": []
    },
    {
      "cell_type": "code",
      "metadata": {
        "colab": {
          "base_uri": "https://localhost:8080/"
        },
        "id": "HQuDMHhIDWwr",
        "outputId": "b1491c10-063c-4dc7-e95b-550c3155f931"
      },
      "source": [
        "# Base datos de la metadata\n",
        "#d[0]['metadata']\n",
        "# ya quedó"
      ],
      "execution_count": 274,
      "outputs": [
        {
          "output_type": "execute_result",
          "data": {
            "text/plain": [
              "{'actualizacion': '2018-06-12T23:00:00.000Z',\n",
              " 'actualizacionConflictoInteres': False,\n",
              " 'declaracionCompleta': True,\n",
              " 'institucion': 'SERVICIO DE INFORMACION AGROALIMENTARIA Y PESQUERA',\n",
              " 'tipo': 'MODIFICACIÓN'}"
            ]
          },
          "metadata": {},
          "execution_count": 274
        }
      ]
    },
    {
      "cell_type": "code",
      "metadata": {
        "colab": {
          "base_uri": "https://localhost:8080/"
        },
        "id": "NWLSPM2sDdl6",
        "outputId": "b12df5f9-1abd-46fd-e332-7092deddb1f2"
      },
      "source": [
        "# ya quedó\n",
        "d[0]['declaracion']['situacionPatrimonial']['datosGenerales']"
      ],
      "execution_count": 282,
      "outputs": [
        {
          "output_type": "execute_result",
          "data": {
            "text/plain": [
              "{'aclaracionesObservaciones': '',\n",
              " 'correoElectronico': {'institucional': 'patricio.crdova@institucion.gob.mx',\n",
              "  'personal': 'patricio_crdova@ymail.mx'},\n",
              " 'curp': 'CÓGP760116HAGRVT08',\n",
              " 'nacionalidad': 'MX',\n",
              " 'nombre': 'Patricio',\n",
              " 'paisNacimiento': 'US',\n",
              " 'primerApellido': 'Córdova',\n",
              " 'rfc': {'homoClave': 'E91', 'rfc': 'CÓGP760116'},\n",
              " 'segundoApellido': 'Guevara',\n",
              " 'situacionPersonalEstadoCivil': {'clave': 'SOL', 'valor': 'SOLTERO (A)'},\n",
              " 'telefono': {'casa': '5687756585', 'celularPersonal': '5334308883'}}"
            ]
          },
          "metadata": {},
          "execution_count": 282
        }
      ]
    },
    {
      "cell_type": "code",
      "metadata": {
        "id": "QEftQ6gyDguo",
        "colab": {
          "base_uri": "https://localhost:8080/"
        },
        "outputId": "a81e674b-60ab-4d1e-a204-8e56f8bb15fd"
      },
      "source": [
        "# ya quedó\n",
        "d[0]['declaracion']['situacionPatrimonial']['datosEmpleoCargoComision']"
      ],
      "execution_count": 285,
      "outputs": [
        {
          "output_type": "execute_result",
          "data": {
            "text/plain": [
              "{'aclaracionesObservaciones': '',\n",
              " 'ambitoPublico': 'JUDICIAL',\n",
              " 'areaAdscripcion': 'Dirección General de Administración',\n",
              " 'contratadoPorHonorarios': False,\n",
              " 'domicilioMexico': {'calle': 'Paz Extrarradio',\n",
              "  'codigoPostal': '25463',\n",
              "  'coloniaLocalidad': 'Del Valle',\n",
              "  'entidadFederativa': {'clave': '05', 'valor': 'Coahuila de Zaragoza'},\n",
              "  'municipioAlcaldia': {'clave': '002', 'valor': 'Acuña'},\n",
              "  'numeroExterior': '1527',\n",
              "  'numeroInterior': ''},\n",
              " 'empleoCargoComision': 'Jefe de Departamento',\n",
              " 'fechaTomaPosesion': '2015-01-23T00:00:00.000Z',\n",
              " 'funcionPrincipal': '',\n",
              " 'nivelEmpleoCargoComision': 'O32',\n",
              " 'nivelOrdenGobierno': 'ESTATAL',\n",
              " 'nombreEntePublico': 'SERVICIO DE INFORMACION AGROALIMENTARIA Y PESQUERA',\n",
              " 'telefonoOficina': {'extension': '', 'telefono': ''},\n",
              " 'tipoOperacion': 'SIN_CAMBIOS'}"
            ]
          },
          "metadata": {},
          "execution_count": 285
        }
      ]
    },
    {
      "cell_type": "code",
      "metadata": {
        "id": "OsUziWQLTe48"
      },
      "source": [
        "\n",
        "with zipfile.ZipFile('/content/drive/MyDrive/Dataton2021/declaraciones.json.zip','r') as z:\n",
        "  for filename in z.namelist():\n",
        "    with z.open(filename) as f:\n",
        "      data = f.read()\n",
        "      d= json.loads(data)\n",
        "\n",
        "metadata = pd.DataFrame()\n",
        "datosGenerales = pd.DataFrame()\n",
        "datosEmpleoCargoComision = pd.DataFrame()\n",
        "\n",
        "rango = len(d)\n",
        "\n",
        "for i in range(rango):\n",
        "  data = pd.json_normalize(d[i]['metadata'])\n",
        "  data['_id'] = d[i]['_id']['$oid']\n",
        "  data['id'] = d[i]['id']\n",
        "  metadata = metadata.append(data)\n",
        "\n",
        "for i in range(rango):\n",
        "  data = pd.json_normalize(d[i]['declaracion']['situacionPatrimonial']['datosGenerales'])\n",
        "  data['_id'] = d[i]['_id']['$oid']\n",
        "  data['id'] = d[i]['id']\n",
        "  datosGenerales = datosGenerales.append(data)\n",
        "\n",
        "for i in range(rango):\n",
        "  data = pd.json_normalize(d[i]['declaracion']['situacionPatrimonial']['datosEmpleoCargoComision'])\n",
        "  data['_id'] = d[i]['_id']['$oid']\n",
        "  data['id'] = d[i]['id']\n",
        "  datosEmpleoCargoComision = datosEmpleoCargoComision.append(data)\n",
        "\n",
        "ingresos_anuales_netos = pd.DataFrame()\n",
        "estudios = pd.DataFrame()\n",
        "bienes_inmuebles = pd.DataFrame()\n",
        "\n",
        "for i in range(rango):\n",
        "  data = pd.json_normalize(d[i]['declaracion']['situacionPatrimonial']['ingresos'])\n",
        "  data['_id'] = d[i]['_id']['$oid']\n",
        "  data['id'] = d[i]['id']\n",
        "  ingresos_anuales_netos = ingresos_anuales_netos.append(data)\n",
        "\n",
        "for i in range(rango):\n",
        "  data = pd.json_normalize(d[i]['declaracion']['situacionPatrimonial']['datosCurricularesDeclarante']['escolaridad'])\n",
        "  data['_id'] = d[i]['_id']['$oid']\n",
        "  data['id'] = d[i]['id']\n",
        "  estudios = estudios.append(data)\n",
        "\n",
        "for i in range(rango):\n",
        "  data = pd.json_normalize(d[i]['declaracion']['situacionPatrimonial']['bienesInmuebles']['bienInmueble'])\n",
        "  data['_id'] = d[i]['_id']['$oid']\n",
        "  data['id'] = d[i]['id']\n",
        "  bienes_inmuebles = bienes_inmuebles.append(data)\n",
        "\n",
        "ingresos_anuales_netos.to_csv('Ingresos_Anuales.csv')\n",
        "estudios.to_csv('Estudios.csv')\n",
        "bienes_inmuebles.to_csv('Bienes_Inmuebles.csv')\n",
        "\n",
        "\n",
        "vehiculos = pd.DataFrame()\n",
        "adeudos = pd.DataFrame()\n",
        "exp_laboral = pd.DataFrame()\n",
        "\n",
        "\n",
        "\"\"\"for i in range(rango):\n",
        "  data = pd.json_normalize(d[i]['declaracion']['situacionPatrimonial']['vehiculos']['vehiculo'])\n",
        "  data['_id'] = d[i]['_id']['$oid']\n",
        "  data['id'] = d[i]['id']\n",
        "  vehiculos = vehiculos.append(data)\n",
        "\"\"\"\n",
        "for i in range(rango):\n",
        "  data = pd.json_normalize(d[0]['declaracion']['situacionPatrimonial']['adeudos']['adeudo'])\n",
        "  data['_id'] = d[i]['_id']['$oid']\n",
        "  data['id'] = d[i]['id']\n",
        "  adeudos = adeudos.append(data)\n",
        "\n",
        "for i in range(rango):\n",
        "  data = pd.json_normalize(d[i]['declaracion']['situacionPatrimonial']['experienciaLaboral']['experiencia'])\n",
        "  data['_id'] = d[i]['_id']['$oid']\n",
        "  data['id'] = d[i]['id']\n",
        "  exp_laboral = exp_laboral.append(data)\n",
        "\n",
        "#vehiculos.to_csv('Vehiculos.csv')\n",
        "adeudos.to_csv('Adeudos.csv')\n",
        "exp_laboral.to_csv('Experiencia_Laboral.csv')"
      ],
      "execution_count": 4,
      "outputs": []
    },
    {
      "cell_type": "code",
      "metadata": {
        "colab": {
          "base_uri": "https://localhost:8080/"
        },
        "id": "vHiUh5uUdYIT",
        "outputId": "ed7c252d-dd79-4e2d-ab1b-188487f99598"
      },
      "source": [
        "len(d)"
      ],
      "execution_count": 5,
      "outputs": [
        {
          "output_type": "execute_result",
          "data": {
            "text/plain": [
              "40019"
            ]
          },
          "metadata": {},
          "execution_count": 5
        }
      ]
    },
    {
      "cell_type": "code",
      "metadata": {
        "id": "scVG75aIetJm"
      },
      "source": [
        "metadata.to_csv('metadata.csv')\n",
        "datosGenerales.to_csv('Datos_Generales.csv')\n",
        "datosEmpleoCargoComision.to_csv('Datos_EmpleoCargoComision.csv')\n"
      ],
      "execution_count": 6,
      "outputs": []
    },
    {
      "cell_type": "code",
      "metadata": {
        "id": "u5M5uCYal6To"
      },
      "source": [
        ""
      ],
      "execution_count": 462,
      "outputs": []
    },
    {
      "cell_type": "code",
      "metadata": {
        "id": "iIZubpEsmaRC"
      },
      "source": [
        ""
      ],
      "execution_count": null,
      "outputs": []
    }
  ]
}