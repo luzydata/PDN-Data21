{
  "nbformat": 4,
  "nbformat_minor": 0,
  "metadata": {
    "accelerator": "GPU",
    "colab": {
      "name": "Analisis Metadata.ipynb",
      "provenance": [],
      "mount_file_id": "1VksLy3jem0cM0lOQjh8dgyoDRDBNmqaF",
      "authorship_tag": "ABX9TyOe5JvY67XCvEoqxob5kBB3",
      "include_colab_link": true
    },
    "kernelspec": {
      "display_name": "Python 3",
      "name": "python3"
    },
    "language_info": {
      "name": "python"
    }
  },
  "cells": [
    {
      "cell_type": "markdown",
      "metadata": {
        "id": "view-in-github",
        "colab_type": "text"
      },
      "source": [
        "<a href=\"https://colab.research.google.com/github/rikrdinii1/PDN-Data21/blob/main/Analisis_Metadata.ipynb\" target=\"_parent\"><img src=\"https://colab.research.google.com/assets/colab-badge.svg\" alt=\"Open In Colab\"/></a>"
      ]
    },
    {
      "cell_type": "code",
      "metadata": {
        "id": "7kGfEnZE8Q-q"
      },
      "source": [
        "import json\n",
        "import pandas as pd\n",
        "import matplotlib.pyplot as plt\n",
        "import seaborn as sns\n",
        "\n",
        "sns.set()"
      ],
      "execution_count": 1,
      "outputs": []
    },
    {
      "cell_type": "code",
      "metadata": {
        "id": "yloEo38r8elT",
        "colab": {
          "base_uri": "https://localhost:8080/",
          "height": 306
        },
        "outputId": "234facec-fda0-4aac-8768-1a32f2bf7200"
      },
      "source": [
        "# Lectura inicial de los datos\n",
        "metadata = pd.read_csv('/content/drive/MyDrive/Dataton2021/metadata.csv')\n",
        "metadata.head()"
      ],
      "execution_count": 2,
      "outputs": [
        {
          "output_type": "execute_result",
          "data": {
            "text/html": [
              "<div>\n",
              "<style scoped>\n",
              "    .dataframe tbody tr th:only-of-type {\n",
              "        vertical-align: middle;\n",
              "    }\n",
              "\n",
              "    .dataframe tbody tr th {\n",
              "        vertical-align: top;\n",
              "    }\n",
              "\n",
              "    .dataframe thead th {\n",
              "        text-align: right;\n",
              "    }\n",
              "</style>\n",
              "<table border=\"1\" class=\"dataframe\">\n",
              "  <thead>\n",
              "    <tr style=\"text-align: right;\">\n",
              "      <th></th>\n",
              "      <th>Unnamed: 0</th>\n",
              "      <th>actualizacion</th>\n",
              "      <th>tipo</th>\n",
              "      <th>institucion</th>\n",
              "      <th>declaracionCompleta</th>\n",
              "      <th>actualizacionConflictoInteres</th>\n",
              "      <th>_id</th>\n",
              "      <th>id</th>\n",
              "    </tr>\n",
              "  </thead>\n",
              "  <tbody>\n",
              "    <tr>\n",
              "      <th>0</th>\n",
              "      <td>0</td>\n",
              "      <td>2018-06-12T23:00:00.000Z</td>\n",
              "      <td>MODIFICACIÓN</td>\n",
              "      <td>SERVICIO DE INFORMACION AGROALIMENTARIA Y PESQ...</td>\n",
              "      <td>True</td>\n",
              "      <td>False</td>\n",
              "      <td>61a804c8f6e28cab0bf39988</td>\n",
              "      <td>ca1336ce-9a12-413a-bab3-b57d85a0948d</td>\n",
              "    </tr>\n",
              "    <tr>\n",
              "      <th>1</th>\n",
              "      <td>0</td>\n",
              "      <td>2015-06-05T23:00:00.000Z</td>\n",
              "      <td>MODIFICACIÓN</td>\n",
              "      <td>SERVICIO DE INFORMACION AGROALIMENTARIA Y PESQ...</td>\n",
              "      <td>True</td>\n",
              "      <td>False</td>\n",
              "      <td>61a804c8f6e28cab0bf39989</td>\n",
              "      <td>c059912d-1d11-4f50-b027-f6dfca8f8418</td>\n",
              "    </tr>\n",
              "    <tr>\n",
              "      <th>2</th>\n",
              "      <td>0</td>\n",
              "      <td>2017-06-06T23:00:00.000Z</td>\n",
              "      <td>MODIFICACIÓN</td>\n",
              "      <td>SERVICIO DE INFORMACION AGROALIMENTARIA Y PESQ...</td>\n",
              "      <td>True</td>\n",
              "      <td>False</td>\n",
              "      <td>61a804c8f6e28cab0bf3998a</td>\n",
              "      <td>ff372d3d-d898-40f8-8577-9cd5ffa1be68</td>\n",
              "    </tr>\n",
              "    <tr>\n",
              "      <th>3</th>\n",
              "      <td>0</td>\n",
              "      <td>2015-02-06T00:00:00.000Z</td>\n",
              "      <td>INICIAL</td>\n",
              "      <td>SERVICIO DE INFORMACION AGROALIMENTARIA Y PESQ...</td>\n",
              "      <td>True</td>\n",
              "      <td>False</td>\n",
              "      <td>61a804c8f6e28cab0bf3998b</td>\n",
              "      <td>2f8f42bf-56cc-4c14-af44-d744b70824a4</td>\n",
              "    </tr>\n",
              "    <tr>\n",
              "      <th>4</th>\n",
              "      <td>0</td>\n",
              "      <td>2020-06-08T23:00:00.000Z</td>\n",
              "      <td>MODIFICACIÓN</td>\n",
              "      <td>SERVICIO DE INFORMACION AGROALIMENTARIA Y PESQ...</td>\n",
              "      <td>True</td>\n",
              "      <td>False</td>\n",
              "      <td>61a804c8f6e28cab0bf3998c</td>\n",
              "      <td>5736d89a-a9bc-4fad-be67-985aa04b47df</td>\n",
              "    </tr>\n",
              "  </tbody>\n",
              "</table>\n",
              "</div>"
            ],
            "text/plain": [
              "   Unnamed: 0  ...                                    id\n",
              "0           0  ...  ca1336ce-9a12-413a-bab3-b57d85a0948d\n",
              "1           0  ...  c059912d-1d11-4f50-b027-f6dfca8f8418\n",
              "2           0  ...  ff372d3d-d898-40f8-8577-9cd5ffa1be68\n",
              "3           0  ...  2f8f42bf-56cc-4c14-af44-d744b70824a4\n",
              "4           0  ...  5736d89a-a9bc-4fad-be67-985aa04b47df\n",
              "\n",
              "[5 rows x 8 columns]"
            ]
          },
          "metadata": {},
          "execution_count": 2
        }
      ]
    },
    {
      "cell_type": "code",
      "metadata": {
        "colab": {
          "base_uri": "https://localhost:8080/",
          "height": 289
        },
        "id": "CqXB1V1_8eZW",
        "outputId": "1d78a6fb-6aa3-4b92-fdcf-acb6cd519f84"
      },
      "source": [
        "# Transformación de los datos\n",
        "metadata.drop('Unnamed: 0', axis=1,inplace=True)\n",
        "metadata.reset_index(drop=True,inplace=True)\n",
        "metadata['actualizacion'] = pd.to_datetime(metadata['actualizacion'])\n",
        "\n",
        "metadata.head()"
      ],
      "execution_count": 3,
      "outputs": [
        {
          "output_type": "execute_result",
          "data": {
            "text/html": [
              "<div>\n",
              "<style scoped>\n",
              "    .dataframe tbody tr th:only-of-type {\n",
              "        vertical-align: middle;\n",
              "    }\n",
              "\n",
              "    .dataframe tbody tr th {\n",
              "        vertical-align: top;\n",
              "    }\n",
              "\n",
              "    .dataframe thead th {\n",
              "        text-align: right;\n",
              "    }\n",
              "</style>\n",
              "<table border=\"1\" class=\"dataframe\">\n",
              "  <thead>\n",
              "    <tr style=\"text-align: right;\">\n",
              "      <th></th>\n",
              "      <th>actualizacion</th>\n",
              "      <th>tipo</th>\n",
              "      <th>institucion</th>\n",
              "      <th>declaracionCompleta</th>\n",
              "      <th>actualizacionConflictoInteres</th>\n",
              "      <th>_id</th>\n",
              "      <th>id</th>\n",
              "    </tr>\n",
              "  </thead>\n",
              "  <tbody>\n",
              "    <tr>\n",
              "      <th>0</th>\n",
              "      <td>2018-06-12 23:00:00+00:00</td>\n",
              "      <td>MODIFICACIÓN</td>\n",
              "      <td>SERVICIO DE INFORMACION AGROALIMENTARIA Y PESQ...</td>\n",
              "      <td>True</td>\n",
              "      <td>False</td>\n",
              "      <td>61a804c8f6e28cab0bf39988</td>\n",
              "      <td>ca1336ce-9a12-413a-bab3-b57d85a0948d</td>\n",
              "    </tr>\n",
              "    <tr>\n",
              "      <th>1</th>\n",
              "      <td>2015-06-05 23:00:00+00:00</td>\n",
              "      <td>MODIFICACIÓN</td>\n",
              "      <td>SERVICIO DE INFORMACION AGROALIMENTARIA Y PESQ...</td>\n",
              "      <td>True</td>\n",
              "      <td>False</td>\n",
              "      <td>61a804c8f6e28cab0bf39989</td>\n",
              "      <td>c059912d-1d11-4f50-b027-f6dfca8f8418</td>\n",
              "    </tr>\n",
              "    <tr>\n",
              "      <th>2</th>\n",
              "      <td>2017-06-06 23:00:00+00:00</td>\n",
              "      <td>MODIFICACIÓN</td>\n",
              "      <td>SERVICIO DE INFORMACION AGROALIMENTARIA Y PESQ...</td>\n",
              "      <td>True</td>\n",
              "      <td>False</td>\n",
              "      <td>61a804c8f6e28cab0bf3998a</td>\n",
              "      <td>ff372d3d-d898-40f8-8577-9cd5ffa1be68</td>\n",
              "    </tr>\n",
              "    <tr>\n",
              "      <th>3</th>\n",
              "      <td>2015-02-06 00:00:00+00:00</td>\n",
              "      <td>INICIAL</td>\n",
              "      <td>SERVICIO DE INFORMACION AGROALIMENTARIA Y PESQ...</td>\n",
              "      <td>True</td>\n",
              "      <td>False</td>\n",
              "      <td>61a804c8f6e28cab0bf3998b</td>\n",
              "      <td>2f8f42bf-56cc-4c14-af44-d744b70824a4</td>\n",
              "    </tr>\n",
              "    <tr>\n",
              "      <th>4</th>\n",
              "      <td>2020-06-08 23:00:00+00:00</td>\n",
              "      <td>MODIFICACIÓN</td>\n",
              "      <td>SERVICIO DE INFORMACION AGROALIMENTARIA Y PESQ...</td>\n",
              "      <td>True</td>\n",
              "      <td>False</td>\n",
              "      <td>61a804c8f6e28cab0bf3998c</td>\n",
              "      <td>5736d89a-a9bc-4fad-be67-985aa04b47df</td>\n",
              "    </tr>\n",
              "  </tbody>\n",
              "</table>\n",
              "</div>"
            ],
            "text/plain": [
              "              actualizacion  ...                                    id\n",
              "0 2018-06-12 23:00:00+00:00  ...  ca1336ce-9a12-413a-bab3-b57d85a0948d\n",
              "1 2015-06-05 23:00:00+00:00  ...  c059912d-1d11-4f50-b027-f6dfca8f8418\n",
              "2 2017-06-06 23:00:00+00:00  ...  ff372d3d-d898-40f8-8577-9cd5ffa1be68\n",
              "3 2015-02-06 00:00:00+00:00  ...  2f8f42bf-56cc-4c14-af44-d744b70824a4\n",
              "4 2020-06-08 23:00:00+00:00  ...  5736d89a-a9bc-4fad-be67-985aa04b47df\n",
              "\n",
              "[5 rows x 7 columns]"
            ]
          },
          "metadata": {},
          "execution_count": 3
        }
      ]
    },
    {
      "cell_type": "code",
      "metadata": {
        "colab": {
          "base_uri": "https://localhost:8080/",
          "height": 285
        },
        "id": "MT3iRCfC81JE",
        "outputId": "55e12838-9dc9-4e20-96db-50c5ab89ac1c"
      },
      "source": [
        "# Obtencion Inicial de la información\n",
        "# ¿Como se distribuye el tipo de declaraciones presentadas?\n",
        "metadata['tipo'].hist()"
      ],
      "execution_count": 4,
      "outputs": [
        {
          "output_type": "execute_result",
          "data": {
            "text/plain": [
              "<matplotlib.axes._subplots.AxesSubplot at 0x7fdcedd2fa90>"
            ]
          },
          "metadata": {},
          "execution_count": 4
        },
        {
          "output_type": "display_data",
          "data": {
            "image/png": "[encoded data removed]",
            "text/plain": [
              "<Figure size 432x288 with 1 Axes>"
            ]
          },
          "metadata": {
            "needs_background": "light"
          }
        }
      ]
    },
    {
      "cell_type": "code",
      "metadata": {
        "id": "OZQ3stCV9KRH",
        "colab": {
          "base_uri": "https://localhost:8080/",
          "height": 450
        },
        "outputId": "866797ce-5971-4231-ada5-844b8f51df1e"
      },
      "source": [
        "# Cuantas declaraciones se efectuaron por institucion? y ¿de que tipo?\n",
        "meta_institucion = pd.pivot_table(metadata,columns='tipo', aggfunc='count',index='institucion',values='id')\n",
        "meta_institucion"
      ],
      "execution_count": 12,
      "outputs": [
        {
          "output_type": "execute_result",
          "data": {
            "text/html": [
              "<div>\n",
              "<style scoped>\n",
              "    .dataframe tbody tr th:only-of-type {\n",
              "        vertical-align: middle;\n",
              "    }\n",
              "\n",
              "    .dataframe tbody tr th {\n",
              "        vertical-align: top;\n",
              "    }\n",
              "\n",
              "    .dataframe thead th {\n",
              "        text-align: right;\n",
              "    }\n",
              "</style>\n",
              "<table border=\"1\" class=\"dataframe\">\n",
              "  <thead>\n",
              "    <tr style=\"text-align: right;\">\n",
              "      <th>tipo</th>\n",
              "      <th>CONCLUSIÓN</th>\n",
              "      <th>INICIAL</th>\n",
              "      <th>MODIFICACIÓN</th>\n",
              "    </tr>\n",
              "    <tr>\n",
              "      <th>institucion</th>\n",
              "      <th></th>\n",
              "      <th></th>\n",
              "      <th></th>\n",
              "    </tr>\n",
              "  </thead>\n",
              "  <tbody>\n",
              "    <tr>\n",
              "      <th>ADMINISTRACION DEL PATRIMONIO DE LA BENEFICENCIA PUBLICA</th>\n",
              "      <td>19.0</td>\n",
              "      <td>19.0</td>\n",
              "      <td>114.0</td>\n",
              "    </tr>\n",
              "    <tr>\n",
              "      <th>ADMINISTRACION FEDERAL DE SERVICIOS EDUCATIVOS EN EL DISTRITO FEDERAL</th>\n",
              "      <td>15.0</td>\n",
              "      <td>15.0</td>\n",
              "      <td>90.0</td>\n",
              "    </tr>\n",
              "    <tr>\n",
              "      <th>ADMINISTRACION PORTUARIA INTEGRAL DE ALTAMIRA S.A. DE C.V.</th>\n",
              "      <td>14.0</td>\n",
              "      <td>14.0</td>\n",
              "      <td>84.0</td>\n",
              "    </tr>\n",
              "    <tr>\n",
              "      <th>ADMINISTRACION PORTUARIA INTEGRAL DE COATZACOALCOS S.A. DE C.V.</th>\n",
              "      <td>15.0</td>\n",
              "      <td>15.0</td>\n",
              "      <td>90.0</td>\n",
              "    </tr>\n",
              "    <tr>\n",
              "      <th>ADMINISTRACION PORTUARIA INTEGRAL DE DOS BOCAS S.A. DE C.V.</th>\n",
              "      <td>2.0</td>\n",
              "      <td>2.0</td>\n",
              "      <td>12.0</td>\n",
              "    </tr>\n",
              "    <tr>\n",
              "      <th>...</th>\n",
              "      <td>...</td>\n",
              "      <td>...</td>\n",
              "      <td>...</td>\n",
              "    </tr>\n",
              "    <tr>\n",
              "      <th>UNIVERSIDAD AUTONOMA AGRARIA ANTONIO NARRO</th>\n",
              "      <td>17.0</td>\n",
              "      <td>17.0</td>\n",
              "      <td>102.0</td>\n",
              "    </tr>\n",
              "    <tr>\n",
              "      <th>UNIVERSIDAD AUTONOMA DE CHAPINGO</th>\n",
              "      <td>16.0</td>\n",
              "      <td>16.0</td>\n",
              "      <td>96.0</td>\n",
              "    </tr>\n",
              "    <tr>\n",
              "      <th>UNIVERSIDAD AUTONOMA METROPOLITANA</th>\n",
              "      <td>12.0</td>\n",
              "      <td>12.0</td>\n",
              "      <td>72.0</td>\n",
              "    </tr>\n",
              "    <tr>\n",
              "      <th>UNIVERSIDAD PEDAGOGICA NACIONAL</th>\n",
              "      <td>15.0</td>\n",
              "      <td>15.0</td>\n",
              "      <td>90.0</td>\n",
              "    </tr>\n",
              "    <tr>\n",
              "      <th>XE-IPN CANAL 11</th>\n",
              "      <td>16.0</td>\n",
              "      <td>16.0</td>\n",
              "      <td>96.0</td>\n",
              "    </tr>\n",
              "  </tbody>\n",
              "</table>\n",
              "<p>327 rows × 3 columns</p>\n",
              "</div>"
            ],
            "text/plain": [
              "tipo                                                CONCLUSIÓN  ...  MODIFICACIÓN\n",
              "institucion                                                     ...              \n",
              "ADMINISTRACION DEL PATRIMONIO DE LA BENEFICENCI...        19.0  ...         114.0\n",
              "ADMINISTRACION FEDERAL DE SERVICIOS EDUCATIVOS ...        15.0  ...          90.0\n",
              "ADMINISTRACION PORTUARIA INTEGRAL DE ALTAMIRA S...        14.0  ...          84.0\n",
              "ADMINISTRACION PORTUARIA INTEGRAL DE COATZACOAL...        15.0  ...          90.0\n",
              "ADMINISTRACION PORTUARIA INTEGRAL DE DOS BOCAS ...         2.0  ...          12.0\n",
              "...                                                        ...  ...           ...\n",
              "UNIVERSIDAD AUTONOMA AGRARIA ANTONIO NARRO                17.0  ...         102.0\n",
              "UNIVERSIDAD AUTONOMA DE CHAPINGO                          16.0  ...          96.0\n",
              "UNIVERSIDAD AUTONOMA METROPOLITANA                        12.0  ...          72.0\n",
              "UNIVERSIDAD PEDAGOGICA NACIONAL                           15.0  ...          90.0\n",
              "XE-IPN CANAL 11                                           16.0  ...          96.0\n",
              "\n",
              "[327 rows x 3 columns]"
            ]
          },
          "metadata": {},
          "execution_count": 12
        }
      ]
    },
    {
      "cell_type": "code",
      "metadata": {
        "id": "R7y7ScvOWzAx",
        "colab": {
          "base_uri": "https://localhost:8080/"
        },
        "outputId": "ef138092-7f2d-4fb7-eccb-0a8ee0de02df"
      },
      "source": [
        "len(metadata['institucion'].unique())\n"
      ],
      "execution_count": 11,
      "outputs": [
        {
          "output_type": "execute_result",
          "data": {
            "text/plain": [
              "327"
            ]
          },
          "metadata": {},
          "execution_count": 11
        }
      ]
    },
    {
      "cell_type": "code",
      "metadata": {
        "id": "XrfDdIaoZqxp"
      },
      "source": [
        ""
      ],
      "execution_count": null,
      "outputs": []
    }
  ]
}